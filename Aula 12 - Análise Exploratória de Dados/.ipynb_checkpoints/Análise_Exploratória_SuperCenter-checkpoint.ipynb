{
 "cells": [
  {
   "cell_type": "markdown",
   "metadata": {
    "id": "8x9yH1ZgBka7"
   },
   "source": [
    "##**Projeto de Análise Exploratória de Dados - SuperCenter**"
   ]
  },
  {
   "cell_type": "markdown",
   "metadata": {
    "id": "1eoC2czrB0cq"
   },
   "source": [
    "##**Setup do projeto**"
   ]
  },
  {
   "cell_type": "code",
   "execution_count": 1,
   "metadata": {
    "colab": {
     "base_uri": "https://localhost:8080/"
    },
    "id": "Rnhz-T5DALq-",
    "outputId": "3d46ba18-9836-438c-a7f1-2e84f7e22e00"
   },
   "outputs": [
    {
     "name": "stdout",
     "output_type": "stream",
     "text": [
      "Versão da Linguagem Python neste Projeto: 3.7.5\n"
     ]
    }
   ],
   "source": [
    "# Versão da Linguagem Python\n",
    "from platform import python_version\n",
    "print('Versão da Linguagem Python neste Projeto:', python_version())"
   ]
  },
  {
   "cell_type": "code",
   "execution_count": 2,
   "metadata": {
    "id": "pR7MbSR9CK8W"
   },
   "outputs": [],
   "source": [
    "# Importar as bibliotecas\n",
    "import numpy as np\n",
    "import pandas as pd\n",
    "import matplotlib.pyplot as plt\n",
    "import seaborn as sns\n",
    "import datetime as dt"
   ]
  },
  {
   "cell_type": "markdown",
   "metadata": {
    "id": "4zBe5MaPCXqe"
   },
   "source": [
    "##**1. Carregando os dados**"
   ]
  },
  {
   "cell_type": "code",
   "execution_count": 3,
   "metadata": {
    "id": "Fbc-mhYdCoTS"
   },
   "outputs": [],
   "source": [
    "# Carrega o dataset e Cria o Dataframe\n",
    "df = pd.read_csv('dataset.csv')"
   ]
  },
  {
   "cell_type": "code",
   "execution_count": 4,
   "metadata": {
    "colab": {
     "base_uri": "https://localhost:8080/"
    },
    "id": "NQ7pOE8_DY9W",
    "outputId": "a3d89a95-d16d-4944-e768-3e60c832edf2"
   },
   "outputs": [
    {
     "data": {
      "text/plain": [
       "(9700, 11)"
      ]
     },
     "execution_count": 4,
     "metadata": {},
     "output_type": "execute_result"
    }
   ],
   "source": [
    "# Tamanho do dataframe\n",
    "df.shape"
   ]
  },
  {
   "cell_type": "code",
   "execution_count": 5,
   "metadata": {
    "colab": {
     "base_uri": "https://localhost:8080/",
     "height": 357
    },
    "id": "QmsJkokqDo9c",
    "outputId": "c5a1edd8-a310-4e8f-92ff-f92f958baff0"
   },
   "outputs": [
    {
     "data": {
      "text/html": [
       "<div>\n",
       "<style scoped>\n",
       "    .dataframe tbody tr th:only-of-type {\n",
       "        vertical-align: middle;\n",
       "    }\n",
       "\n",
       "    .dataframe tbody tr th {\n",
       "        vertical-align: top;\n",
       "    }\n",
       "\n",
       "    .dataframe thead th {\n",
       "        text-align: right;\n",
       "    }\n",
       "</style>\n",
       "<table border=\"1\" class=\"dataframe\">\n",
       "  <thead>\n",
       "    <tr style=\"text-align: right;\">\n",
       "      <th></th>\n",
       "      <th>ID_Pedido</th>\n",
       "      <th>Data_Pedido</th>\n",
       "      <th>ID_Cliente</th>\n",
       "      <th>Segmento</th>\n",
       "      <th>Pais</th>\n",
       "      <th>Cidade</th>\n",
       "      <th>Estado</th>\n",
       "      <th>ID_Produto</th>\n",
       "      <th>Categoria</th>\n",
       "      <th>SubCategoria</th>\n",
       "      <th>Valor_Venda</th>\n",
       "    </tr>\n",
       "  </thead>\n",
       "  <tbody>\n",
       "    <tr>\n",
       "      <th>0</th>\n",
       "      <td>CA-2017-152156</td>\n",
       "      <td>08/11/2017</td>\n",
       "      <td>CG-12520</td>\n",
       "      <td>Consumer</td>\n",
       "      <td>United States</td>\n",
       "      <td>Henderson</td>\n",
       "      <td>Kentucky</td>\n",
       "      <td>FUR-BO-10001798</td>\n",
       "      <td>Furniture</td>\n",
       "      <td>Bookcases</td>\n",
       "      <td>261.9600</td>\n",
       "    </tr>\n",
       "    <tr>\n",
       "      <th>1</th>\n",
       "      <td>CA-2017-152156</td>\n",
       "      <td>08/11/2017</td>\n",
       "      <td>CG-12520</td>\n",
       "      <td>Consumer</td>\n",
       "      <td>United States</td>\n",
       "      <td>Henderson</td>\n",
       "      <td>Kentucky</td>\n",
       "      <td>FUR-CH-10000454</td>\n",
       "      <td>Furniture</td>\n",
       "      <td>Chairs</td>\n",
       "      <td>731.9400</td>\n",
       "    </tr>\n",
       "    <tr>\n",
       "      <th>2</th>\n",
       "      <td>CA-2017-138688</td>\n",
       "      <td>12/06/2017</td>\n",
       "      <td>DV-13045</td>\n",
       "      <td>Corporate</td>\n",
       "      <td>United States</td>\n",
       "      <td>Los Angeles</td>\n",
       "      <td>California</td>\n",
       "      <td>OFF-LA-10000240</td>\n",
       "      <td>Office Supplies</td>\n",
       "      <td>Labels</td>\n",
       "      <td>14.6200</td>\n",
       "    </tr>\n",
       "    <tr>\n",
       "      <th>3</th>\n",
       "      <td>US-2016-108966</td>\n",
       "      <td>11/10/2016</td>\n",
       "      <td>SO-20335</td>\n",
       "      <td>Consumer</td>\n",
       "      <td>United States</td>\n",
       "      <td>Fort Lauderdale</td>\n",
       "      <td>Florida</td>\n",
       "      <td>FUR-TA-10000577</td>\n",
       "      <td>Furniture</td>\n",
       "      <td>Tables</td>\n",
       "      <td>957.5775</td>\n",
       "    </tr>\n",
       "    <tr>\n",
       "      <th>4</th>\n",
       "      <td>US-2016-108966</td>\n",
       "      <td>11/10/2016</td>\n",
       "      <td>SO-20335</td>\n",
       "      <td>Consumer</td>\n",
       "      <td>United States</td>\n",
       "      <td>Fort Lauderdale</td>\n",
       "      <td>Florida</td>\n",
       "      <td>OFF-ST-10000760</td>\n",
       "      <td>Office Supplies</td>\n",
       "      <td>Storage</td>\n",
       "      <td>22.3680</td>\n",
       "    </tr>\n",
       "  </tbody>\n",
       "</table>\n",
       "</div>"
      ],
      "text/plain": [
       "        ID_Pedido Data_Pedido ID_Cliente   Segmento           Pais  \\\n",
       "0  CA-2017-152156  08/11/2017   CG-12520   Consumer  United States   \n",
       "1  CA-2017-152156  08/11/2017   CG-12520   Consumer  United States   \n",
       "2  CA-2017-138688  12/06/2017   DV-13045  Corporate  United States   \n",
       "3  US-2016-108966  11/10/2016   SO-20335   Consumer  United States   \n",
       "4  US-2016-108966  11/10/2016   SO-20335   Consumer  United States   \n",
       "\n",
       "            Cidade      Estado       ID_Produto        Categoria SubCategoria  \\\n",
       "0        Henderson    Kentucky  FUR-BO-10001798        Furniture    Bookcases   \n",
       "1        Henderson    Kentucky  FUR-CH-10000454        Furniture       Chairs   \n",
       "2      Los Angeles  California  OFF-LA-10000240  Office Supplies       Labels   \n",
       "3  Fort Lauderdale     Florida  FUR-TA-10000577        Furniture       Tables   \n",
       "4  Fort Lauderdale     Florida  OFF-ST-10000760  Office Supplies      Storage   \n",
       "\n",
       "   Valor_Venda  \n",
       "0     261.9600  \n",
       "1     731.9400  \n",
       "2      14.6200  \n",
       "3     957.5775  \n",
       "4      22.3680  "
      ]
     },
     "execution_count": 5,
     "metadata": {},
     "output_type": "execute_result"
    }
   ],
   "source": [
    "# Amostra do Dataframe - 5 primeiras linhas\n",
    "df.head()"
   ]
  },
  {
   "cell_type": "code",
   "execution_count": 6,
   "metadata": {
    "colab": {
     "base_uri": "https://localhost:8080/",
     "height": 357
    },
    "id": "c7BcHPLYD3nr",
    "outputId": "8c42d227-262d-4ace-9100-5a4463c99013"
   },
   "outputs": [
    {
     "data": {
      "text/html": [
       "<div>\n",
       "<style scoped>\n",
       "    .dataframe tbody tr th:only-of-type {\n",
       "        vertical-align: middle;\n",
       "    }\n",
       "\n",
       "    .dataframe tbody tr th {\n",
       "        vertical-align: top;\n",
       "    }\n",
       "\n",
       "    .dataframe thead th {\n",
       "        text-align: right;\n",
       "    }\n",
       "</style>\n",
       "<table border=\"1\" class=\"dataframe\">\n",
       "  <thead>\n",
       "    <tr style=\"text-align: right;\">\n",
       "      <th></th>\n",
       "      <th>ID_Pedido</th>\n",
       "      <th>Data_Pedido</th>\n",
       "      <th>ID_Cliente</th>\n",
       "      <th>Segmento</th>\n",
       "      <th>Pais</th>\n",
       "      <th>Cidade</th>\n",
       "      <th>Estado</th>\n",
       "      <th>ID_Produto</th>\n",
       "      <th>Categoria</th>\n",
       "      <th>SubCategoria</th>\n",
       "      <th>Valor_Venda</th>\n",
       "    </tr>\n",
       "  </thead>\n",
       "  <tbody>\n",
       "    <tr>\n",
       "      <th>9695</th>\n",
       "      <td>CA-2018-154116</td>\n",
       "      <td>15/12/2018</td>\n",
       "      <td>KM-16660</td>\n",
       "      <td>Consumer</td>\n",
       "      <td>United States</td>\n",
       "      <td>Inglewood</td>\n",
       "      <td>California</td>\n",
       "      <td>OFF-PA-10004569</td>\n",
       "      <td>Office Supplies</td>\n",
       "      <td>Paper</td>\n",
       "      <td>22.830</td>\n",
       "    </tr>\n",
       "    <tr>\n",
       "      <th>9696</th>\n",
       "      <td>CA-2018-154116</td>\n",
       "      <td>15/12/2018</td>\n",
       "      <td>KM-16660</td>\n",
       "      <td>Consumer</td>\n",
       "      <td>United States</td>\n",
       "      <td>Inglewood</td>\n",
       "      <td>California</td>\n",
       "      <td>OFF-AP-10000027</td>\n",
       "      <td>Office Supplies</td>\n",
       "      <td>Appliances</td>\n",
       "      <td>54.320</td>\n",
       "    </tr>\n",
       "    <tr>\n",
       "      <th>9697</th>\n",
       "      <td>CA-2018-154116</td>\n",
       "      <td>15/12/2018</td>\n",
       "      <td>KM-16660</td>\n",
       "      <td>Consumer</td>\n",
       "      <td>United States</td>\n",
       "      <td>Inglewood</td>\n",
       "      <td>California</td>\n",
       "      <td>TEC-PH-10000675</td>\n",
       "      <td>Technology</td>\n",
       "      <td>Phones</td>\n",
       "      <td>196.776</td>\n",
       "    </tr>\n",
       "    <tr>\n",
       "      <th>9698</th>\n",
       "      <td>CA-2017-105291</td>\n",
       "      <td>30/10/2017</td>\n",
       "      <td>SP-20920</td>\n",
       "      <td>Consumer</td>\n",
       "      <td>United States</td>\n",
       "      <td>San Luis Obispo</td>\n",
       "      <td>California</td>\n",
       "      <td>OFF-FA-10003059</td>\n",
       "      <td>Office Supplies</td>\n",
       "      <td>Fasteners</td>\n",
       "      <td>3.620</td>\n",
       "    </tr>\n",
       "    <tr>\n",
       "      <th>9699</th>\n",
       "      <td>CA-2018-147032</td>\n",
       "      <td>31/07/2018</td>\n",
       "      <td>LB-16795</td>\n",
       "      <td>Home Office</td>\n",
       "      <td>United States</td>\n",
       "      <td>Wilmington</td>\n",
       "      <td>Delaware</td>\n",
       "      <td>OFF-PA-10003256</td>\n",
       "      <td>Office Supplies</td>\n",
       "      <td>Paper</td>\n",
       "      <td>11.540</td>\n",
       "    </tr>\n",
       "  </tbody>\n",
       "</table>\n",
       "</div>"
      ],
      "text/plain": [
       "           ID_Pedido Data_Pedido ID_Cliente     Segmento           Pais  \\\n",
       "9695  CA-2018-154116  15/12/2018   KM-16660     Consumer  United States   \n",
       "9696  CA-2018-154116  15/12/2018   KM-16660     Consumer  United States   \n",
       "9697  CA-2018-154116  15/12/2018   KM-16660     Consumer  United States   \n",
       "9698  CA-2017-105291  30/10/2017   SP-20920     Consumer  United States   \n",
       "9699  CA-2018-147032  31/07/2018   LB-16795  Home Office  United States   \n",
       "\n",
       "               Cidade      Estado       ID_Produto        Categoria  \\\n",
       "9695        Inglewood  California  OFF-PA-10004569  Office Supplies   \n",
       "9696        Inglewood  California  OFF-AP-10000027  Office Supplies   \n",
       "9697        Inglewood  California  TEC-PH-10000675       Technology   \n",
       "9698  San Luis Obispo  California  OFF-FA-10003059  Office Supplies   \n",
       "9699       Wilmington    Delaware  OFF-PA-10003256  Office Supplies   \n",
       "\n",
       "     SubCategoria  Valor_Venda  \n",
       "9695        Paper       22.830  \n",
       "9696   Appliances       54.320  \n",
       "9697       Phones      196.776  \n",
       "9698    Fasteners        3.620  \n",
       "9699        Paper       11.540  "
      ]
     },
     "execution_count": 6,
     "metadata": {},
     "output_type": "execute_result"
    }
   ],
   "source": [
    "# Amostra do Dataframe - 5 últimas linhas\n",
    "df.tail()"
   ]
  },
  {
   "cell_type": "markdown",
   "metadata": {
    "id": "xmxtKyXgEA2p"
   },
   "source": [
    "##**2. Análise Exploratória**"
   ]
  },
  {
   "cell_type": "code",
   "execution_count": 7,
   "metadata": {
    "colab": {
     "base_uri": "https://localhost:8080/"
    },
    "id": "zm2zpUd9ELbw",
    "outputId": "973ede77-6b51-4dcb-d861-939f611066f4"
   },
   "outputs": [
    {
     "data": {
      "text/plain": [
       "Index(['ID_Pedido', 'Data_Pedido', 'ID_Cliente', 'Segmento', 'Pais', 'Cidade',\n",
       "       'Estado', 'ID_Produto', 'Categoria', 'SubCategoria', 'Valor_Venda'],\n",
       "      dtype='object')"
      ]
     },
     "execution_count": 7,
     "metadata": {},
     "output_type": "execute_result"
    }
   ],
   "source": [
    "# Colunas do Dataframe\n",
    "df.columns"
   ]
  },
  {
   "cell_type": "code",
   "execution_count": 8,
   "metadata": {
    "colab": {
     "base_uri": "https://localhost:8080/"
    },
    "id": "8693R5CwETww",
    "outputId": "24a66551-41cb-46ec-935f-6d1433fa76ea"
   },
   "outputs": [
    {
     "data": {
      "text/plain": [
       "ID_Pedido        object\n",
       "Data_Pedido      object\n",
       "ID_Cliente       object\n",
       "Segmento         object\n",
       "Pais             object\n",
       "Cidade           object\n",
       "Estado           object\n",
       "ID_Produto       object\n",
       "Categoria        object\n",
       "SubCategoria     object\n",
       "Valor_Venda     float64\n",
       "dtype: object"
      ]
     },
     "execution_count": 8,
     "metadata": {},
     "output_type": "execute_result"
    }
   ],
   "source": [
    "# Verificando o tipo de dado de cada coluna\n",
    "df.dtypes"
   ]
  },
  {
   "cell_type": "code",
   "execution_count": 9,
   "metadata": {
    "colab": {
     "base_uri": "https://localhost:8080/"
    },
    "id": "BS4vRP25EZcf",
    "outputId": "c387870b-05b9-4b9a-bc5e-8b1b4ea4f56e"
   },
   "outputs": [
    {
     "data": {
      "text/plain": [
       "count     9700.000000\n",
       "mean       230.469892\n",
       "std        627.504252\n",
       "min          0.444000\n",
       "25%         17.248000\n",
       "50%         54.272000\n",
       "75%        209.932500\n",
       "max      22638.480000\n",
       "Name: Valor_Venda, dtype: float64"
      ]
     },
     "execution_count": 9,
     "metadata": {},
     "output_type": "execute_result"
    }
   ],
   "source": [
    "# Resumo estatístico da coluna - Valor_Venda\n",
    "df['Valor_Venda'].describe()"
   ]
  },
  {
   "cell_type": "code",
   "execution_count": 15,
   "metadata": {
    "colab": {
     "base_uri": "https://localhost:8080/",
     "height": 113
    },
    "id": "tRAKy6klEpkd",
    "outputId": "154645f4-8237-468c-90ad-13c2321c5313"
   },
   "outputs": [
    {
     "data": {
      "text/html": [
       "<div>\n",
       "<style scoped>\n",
       "    .dataframe tbody tr th:only-of-type {\n",
       "        vertical-align: middle;\n",
       "    }\n",
       "\n",
       "    .dataframe tbody tr th {\n",
       "        vertical-align: top;\n",
       "    }\n",
       "\n",
       "    .dataframe thead th {\n",
       "        text-align: right;\n",
       "    }\n",
       "</style>\n",
       "<table border=\"1\" class=\"dataframe\">\n",
       "  <thead>\n",
       "    <tr style=\"text-align: right;\">\n",
       "      <th></th>\n",
       "      <th>ID_Pedido</th>\n",
       "      <th>Data_Pedido</th>\n",
       "      <th>ID_Cliente</th>\n",
       "      <th>Segmento</th>\n",
       "      <th>Pais</th>\n",
       "      <th>Cidade</th>\n",
       "      <th>Estado</th>\n",
       "      <th>ID_Produto</th>\n",
       "      <th>Categoria</th>\n",
       "      <th>SubCategoria</th>\n",
       "      <th>Valor_Venda</th>\n",
       "    </tr>\n",
       "  </thead>\n",
       "  <tbody>\n",
       "  </tbody>\n",
       "</table>\n",
       "</div>"
      ],
      "text/plain": [
       "Empty DataFrame\n",
       "Columns: [ID_Pedido, Data_Pedido, ID_Cliente, Segmento, Pais, Cidade, Estado, ID_Produto, Categoria, SubCategoria, Valor_Venda]\n",
       "Index: []"
      ]
     },
     "execution_count": 15,
     "metadata": {},
     "output_type": "execute_result"
    }
   ],
   "source": [
    "# Verificando se há registros duplicados\n",
    "df[df.duplicated()]"
   ]
  },
  {
   "cell_type": "code",
   "execution_count": 11,
   "metadata": {
    "colab": {
     "base_uri": "https://localhost:8080/"
    },
    "id": "mIb1uN8NEvyn",
    "outputId": "72979878-f1d7-44f5-8020-9dddf10037e0"
   },
   "outputs": [
    {
     "data": {
      "text/plain": [
       "ID_Pedido       0\n",
       "Data_Pedido     0\n",
       "ID_Cliente      0\n",
       "Segmento        0\n",
       "Pais            0\n",
       "Cidade          0\n",
       "Estado          0\n",
       "ID_Produto      0\n",
       "Categoria       0\n",
       "SubCategoria    0\n",
       "Valor_Venda     0\n",
       "dtype: int64"
      ]
     },
     "execution_count": 11,
     "metadata": {},
     "output_type": "execute_result"
    }
   ],
   "source": [
    "# Verificando de há valores ausentes\n",
    "df.isnull().sum()"
   ]
  },
  {
   "cell_type": "markdown",
   "metadata": {
    "id": "Ak6Quo6nFHmW"
   },
   "source": [
    "##**Pergunta de Negócio 1:**\n",
    "##Qual a cidade com maior valor total de vendas de produtos da categoria 'Office Supplies'?"
   ]
  },
  {
   "cell_type": "code",
   "execution_count": 16,
   "metadata": {
    "id": "Li2ZgwY-ItPB"
   },
   "outputs": [],
   "source": [
    "# Primeiro filtra o dataframe com os registros da categoria desejada\n",
    "df_p1 = df[df['Categoria'] == 'Office Supplies']"
   ]
  },
  {
   "cell_type": "code",
   "execution_count": 17,
   "metadata": {
    "id": "PF_jnmcyJ2U4"
   },
   "outputs": [],
   "source": [
    "# Em seguida agrupa por cidade e calcula o total de valor_venda\n",
    "df_p1_total = df_p1.groupby('Cidade')['Valor_Venda'].sum()"
   ]
  },
  {
   "cell_type": "code",
   "execution_count": 18,
   "metadata": {
    "colab": {
     "base_uri": "https://localhost:8080/"
    },
    "id": "CBqx2w_cKYok",
    "outputId": "64397ee5-5377-454b-ed51-27d1ab0d3693"
   },
   "outputs": [
    {
     "name": "stdout",
     "output_type": "stream",
     "text": [
      "Cidade com maior valor de venda para 'Office Supplies': New York City\n"
     ]
    }
   ],
   "source": [
    "# Então encontramos a cidade com maior valor de venda\n",
    "cidade_maior_venda = df_p1_total.idxmax()\n",
    "print(\"Cidade com maior valor de venda para 'Office Supplies':\", cidade_maior_venda)"
   ]
  },
  {
   "cell_type": "code",
   "execution_count": 19,
   "metadata": {
    "colab": {
     "base_uri": "https://localhost:8080/"
    },
    "id": "fiyBTNF-Km9L",
    "outputId": "286ce325-071d-4438-ab75-83fff3dbdb89"
   },
   "outputs": [
    {
     "data": {
      "text/plain": [
       "Cidade\n",
       "New York City    68362.814\n",
       "Los Angeles      47098.100\n",
       "San Francisco    41771.198\n",
       "Seattle          34856.878\n",
       "Philadelphia     29313.687\n",
       "                   ...    \n",
       "Ormond Beach         2.808\n",
       "Pensacola            2.214\n",
       "Jupiter              2.064\n",
       "Elyria               1.824\n",
       "Abilene              1.392\n",
       "Name: Valor_Venda, Length: 480, dtype: float64"
      ]
     },
     "execution_count": 19,
     "metadata": {},
     "output_type": "execute_result"
    }
   ],
   "source": [
    "# Para conferir o resultado encontrado\n",
    "df_p1_total.sort_values(ascending = False)"
   ]
  },
  {
   "cell_type": "markdown",
   "metadata": {
    "id": "piz8AF6yK8or"
   },
   "source": [
    "##**Pergunta de Negócio 2:**\n",
    "Qual o Total de Vendas Por Data do Pedido?\n",
    "Demonstre o resultado em um gráfico de barras."
   ]
  },
  {
   "cell_type": "code",
   "execution_count": 20,
   "metadata": {
    "id": "lDSrMuyRLBhg"
   },
   "outputs": [],
   "source": [
    "# Calcula o total de vendas para cada data de pedido\n",
    "df_p2 = df.groupby('Data_Pedido')['Valor_Venda'].sum()"
   ]
  },
  {
   "cell_type": "code",
   "execution_count": 21,
   "metadata": {
    "colab": {
     "base_uri": "https://localhost:8080/"
    },
    "id": "taKdaaMxMMqh",
    "outputId": "e17497ef-a0e4-4f0a-b9d5-b09ed86865f4"
   },
   "outputs": [
    {
     "data": {
      "text/plain": [
       "(1226,)"
      ]
     },
     "execution_count": 21,
     "metadata": {},
     "output_type": "execute_result"
    }
   ],
   "source": [
    "# Visualiza a quantidade de vendas por data\n",
    "df_p2.shape"
   ]
  },
  {
   "cell_type": "code",
   "execution_count": 22,
   "metadata": {
    "colab": {
     "base_uri": "https://localhost:8080/"
    },
    "id": "BTrNQt8SJxi0",
    "outputId": "5f935269-6333-408f-9e5e-5c294970b70a"
   },
   "outputs": [
    {
     "data": {
      "text/plain": [
       "Data_Pedido\n",
       "01/01/2018    1481.8280\n",
       "01/02/2015     468.9000\n",
       "01/02/2017     161.9700\n",
       "01/03/2015    2203.1510\n",
       "01/03/2016    1642.1744\n",
       "Name: Valor_Venda, dtype: float64"
      ]
     },
     "execution_count": 22,
     "metadata": {},
     "output_type": "execute_result"
    }
   ],
   "source": [
    "# Visualiza as 5 primeiras linhas\n",
    "df_p2.head()"
   ]
  },
  {
   "cell_type": "code",
   "execution_count": 23,
   "metadata": {
    "colab": {
     "base_uri": "https://localhost:8080/"
    },
    "id": "dW8RM0A1MOLe",
    "outputId": "19baf048-ae64-4f7a-8b5b-502ffaa12406"
   },
   "outputs": [
    {
     "data": {
      "image/png": "[encoded data removed]",
      "text/plain": [
       "<Figure size 1440x432 with 1 Axes>"
      ]
     },
     "metadata": {
      "needs_background": "light"
     },
     "output_type": "display_data"
    }
   ],
   "source": [
    "# Gráfico com a resposta\n",
    "plt.figure(figsize = (20, 6))\n",
    "df_p2.plot(x = 'Data_Pedido', \n",
    "           y = 'Valor_Venda', \n",
    "           color = 'red')\n",
    "plt.title('Total de Vendas Por Data do Pedido')\n",
    "plt.show()"
   ]
  },
  {
   "cell_type": "markdown",
   "metadata": {
    "id": "ZkTOx7emN4oM"
   },
   "source": [
    "##**Pergunta de Negócio 3:**\n",
    "Calcule o Total de Vendas por Estado e demonstre o resultado através de um gráfico de barras."
   ]
  },
  {
   "cell_type": "code",
   "execution_count": 24,
   "metadata": {
    "id": "B6Sd9b9JN_PX"
   },
   "outputs": [],
   "source": [
    "# Agrupa por estado e calcula o total de vendas\n",
    "df_p3 = df.groupby('Estado')['Valor_Venda'].sum().reset_index()"
   ]
  },
  {
   "cell_type": "code",
   "execution_count": 25,
   "metadata": {
    "colab": {
     "base_uri": "https://localhost:8080/"
    },
    "id": "_Hvi2amtOO7j",
    "outputId": "fde3dfd4-a39d-4530-c497-ee09438ff029"
   },
   "outputs": [
    {
     "data": {
      "image/png": "[encoded data removed]",
      "text/plain": [
       "<Figure size 1152x432 with 1 Axes>"
      ]
     },
     "metadata": {
      "needs_background": "light"
     },
     "output_type": "display_data"
    }
   ],
   "source": [
    "# Gráfico com a resposta\n",
    "plt.figure(figsize = (16, 6))\n",
    "sns.barplot(data = df_p3, \n",
    "            y = 'Valor_Venda', \n",
    "            x = 'Estado').set(title = 'Vendas Por Estado')\n",
    "plt.xticks(rotation = 80)\n",
    "plt.show()"
   ]
  },
  {
   "cell_type": "markdown",
   "metadata": {
    "id": "ickTM_wNPjMJ"
   },
   "source": [
    "##**Pergunta de Negócio 4:**\n",
    "\n",
    "Identifique as 10 Cidades com Maior Total de Vendas e demonstre o resultado através de um gráfico de barras."
   ]
  },
  {
   "cell_type": "code",
   "execution_count": 26,
   "metadata": {
    "id": "5eCzX8K0PxPW"
   },
   "outputs": [],
   "source": [
    "# Agrupa por cidade, calculamos o total de vendas e ordenamos listando somente os 10 primeiros registros\n",
    "df_p4 = df.groupby('Cidade')['Valor_Venda'].sum().reset_index().sort_values(by = 'Valor_Venda',\n",
    "                                                                                    ascending = False).head(10)"
   ]
  },
  {
   "cell_type": "code",
   "execution_count": 27,
   "metadata": {
    "colab": {
     "base_uri": "https://localhost:8080/",
     "height": 363
    },
    "id": "JXDjvlhbQCVA",
    "outputId": "15f371ce-4e03-4739-b343-95bdbb98b0d9"
   },
   "outputs": [
    {
     "data": {
      "text/html": [
       "<div>\n",
       "<style scoped>\n",
       "    .dataframe tbody tr th:only-of-type {\n",
       "        vertical-align: middle;\n",
       "    }\n",
       "\n",
       "    .dataframe tbody tr th {\n",
       "        vertical-align: top;\n",
       "    }\n",
       "\n",
       "    .dataframe thead th {\n",
       "        text-align: right;\n",
       "    }\n",
       "</style>\n",
       "<table border=\"1\" class=\"dataframe\">\n",
       "  <thead>\n",
       "    <tr style=\"text-align: right;\">\n",
       "      <th></th>\n",
       "      <th>Cidade</th>\n",
       "      <th>Valor_Venda</th>\n",
       "    </tr>\n",
       "  </thead>\n",
       "  <tbody>\n",
       "    <tr>\n",
       "      <th>327</th>\n",
       "      <td>New York City</td>\n",
       "      <td>251749.2190</td>\n",
       "    </tr>\n",
       "    <tr>\n",
       "      <th>265</th>\n",
       "      <td>Los Angeles</td>\n",
       "      <td>171654.6330</td>\n",
       "    </tr>\n",
       "    <tr>\n",
       "      <th>450</th>\n",
       "      <td>Seattle</td>\n",
       "      <td>114725.4780</td>\n",
       "    </tr>\n",
       "    <tr>\n",
       "      <th>436</th>\n",
       "      <td>San Francisco</td>\n",
       "      <td>107489.9520</td>\n",
       "    </tr>\n",
       "    <tr>\n",
       "      <th>372</th>\n",
       "      <td>Philadelphia</td>\n",
       "      <td>107197.8030</td>\n",
       "    </tr>\n",
       "    <tr>\n",
       "      <th>207</th>\n",
       "      <td>Houston</td>\n",
       "      <td>61590.1868</td>\n",
       "    </tr>\n",
       "    <tr>\n",
       "      <th>435</th>\n",
       "      <td>San Diego</td>\n",
       "      <td>47458.3790</td>\n",
       "    </tr>\n",
       "    <tr>\n",
       "      <th>80</th>\n",
       "      <td>Chicago</td>\n",
       "      <td>46974.3430</td>\n",
       "    </tr>\n",
       "    <tr>\n",
       "      <th>216</th>\n",
       "      <td>Jacksonville</td>\n",
       "      <td>44713.1830</td>\n",
       "    </tr>\n",
       "    <tr>\n",
       "      <th>123</th>\n",
       "      <td>Detroit</td>\n",
       "      <td>42446.9440</td>\n",
       "    </tr>\n",
       "  </tbody>\n",
       "</table>\n",
       "</div>"
      ],
      "text/plain": [
       "            Cidade  Valor_Venda\n",
       "327  New York City  251749.2190\n",
       "265    Los Angeles  171654.6330\n",
       "450        Seattle  114725.4780\n",
       "436  San Francisco  107489.9520\n",
       "372   Philadelphia  107197.8030\n",
       "207        Houston   61590.1868\n",
       "435      San Diego   47458.3790\n",
       "80         Chicago   46974.3430\n",
       "216   Jacksonville   44713.1830\n",
       "123        Detroit   42446.9440"
      ]
     },
     "execution_count": 27,
     "metadata": {},
     "output_type": "execute_result"
    }
   ],
   "source": [
    "# Lista as 10 cidades com maior venda\n",
    "df_p4.head(10)"
   ]
  },
  {
   "cell_type": "code",
   "execution_count": 28,
   "metadata": {
    "colab": {
     "base_uri": "https://localhost:8080/",
     "height": 377
    },
    "id": "mvAPHabpQQGv",
    "outputId": "d8d7aaa2-e22e-42a4-f8a3-78df2d98aaf7"
   },
   "outputs": [
    {
     "data": {
      "image/png": "[encoded data removed]",
      "text/plain": [
       "<Figure size 1152x432 with 1 Axes>"
      ]
     },
     "metadata": {
      "needs_background": "light"
     },
     "output_type": "display_data"
    }
   ],
   "source": [
    "# Gráfico com a resposta\n",
    "plt.figure(figsize = (16, 6))\n",
    "sns.set_palette('coolwarm')\n",
    "sns.barplot(data = df_p4, \n",
    "            y = 'Valor_Venda', \n",
    "            x = 'Cidade').set(title = 'As 10 Cidades com Maior Total de Vendas')\n",
    "plt.show()"
   ]
  },
  {
   "cell_type": "markdown",
   "metadata": {
    "id": "lHMidxoQRMlN"
   },
   "source": [
    "##**Pergunta de Negócio 5:**\n",
    "Identifique qual segmento teve o Maior Total de Vendas e demonstre o resultado através de um gráfico de pizza."
   ]
  },
  {
   "cell_type": "code",
   "execution_count": 29,
   "metadata": {
    "id": "HauQ3tH3SagN"
   },
   "outputs": [],
   "source": [
    "# Agrupa por segmento e calculamos o total de vendas\n",
    "df_p5 = df.groupby('Segmento')['Valor_Venda'].sum().reset_index().sort_values(by = 'Valor_Venda',\n",
    "                                                                                      ascending = False)"
   ]
  },
  {
   "cell_type": "code",
   "execution_count": 30,
   "metadata": {
    "colab": {
     "base_uri": "https://localhost:8080/",
     "height": 143
    },
    "id": "TBf8jl-GTENw",
    "outputId": "afc82c13-f568-4eb8-c2c8-9980146eeb75"
   },
   "outputs": [
    {
     "data": {
      "text/html": [
       "<div>\n",
       "<style scoped>\n",
       "    .dataframe tbody tr th:only-of-type {\n",
       "        vertical-align: middle;\n",
       "    }\n",
       "\n",
       "    .dataframe tbody tr th {\n",
       "        vertical-align: top;\n",
       "    }\n",
       "\n",
       "    .dataframe thead th {\n",
       "        text-align: right;\n",
       "    }\n",
       "</style>\n",
       "<table border=\"1\" class=\"dataframe\">\n",
       "  <thead>\n",
       "    <tr style=\"text-align: right;\">\n",
       "      <th></th>\n",
       "      <th>Segmento</th>\n",
       "      <th>Valor_Venda</th>\n",
       "    </tr>\n",
       "  </thead>\n",
       "  <tbody>\n",
       "    <tr>\n",
       "      <th>0</th>\n",
       "      <td>Consumer</td>\n",
       "      <td>1.133834e+06</td>\n",
       "    </tr>\n",
       "    <tr>\n",
       "      <th>1</th>\n",
       "      <td>Corporate</td>\n",
       "      <td>6.792322e+05</td>\n",
       "    </tr>\n",
       "    <tr>\n",
       "      <th>2</th>\n",
       "      <td>Home Office</td>\n",
       "      <td>4.224914e+05</td>\n",
       "    </tr>\n",
       "  </tbody>\n",
       "</table>\n",
       "</div>"
      ],
      "text/plain": [
       "      Segmento   Valor_Venda\n",
       "0     Consumer  1.133834e+06\n",
       "1    Corporate  6.792322e+05\n",
       "2  Home Office  4.224914e+05"
      ]
     },
     "execution_count": 30,
     "metadata": {},
     "output_type": "execute_result"
    }
   ],
   "source": [
    "# Lista as 10 cidades com maior venda\n",
    "df_p5.head()"
   ]
  },
  {
   "cell_type": "code",
   "execution_count": 31,
   "metadata": {
    "id": "fvddM2xkTFI_"
   },
   "outputs": [],
   "source": [
    "# Função para converter os dados em valor absoluto\n",
    "def autopct_format(values): \n",
    "    def my_format(pct): \n",
    "        total = sum(values) \n",
    "        val = int(round(pct * total / 100.0))\n",
    "        return ' $ {v:d}'.format(v = val)\n",
    "    return my_format"
   ]
  },
  {
   "cell_type": "code",
   "execution_count": 38,
   "metadata": {
    "colab": {
     "base_uri": "https://localhost:8080/",
     "height": 521
    },
    "id": "2XeQYaRzT1je",
    "outputId": "525f31b0-f397-475f-f09e-676a894f4092"
   },
   "outputs": [
    {
     "data": {
      "image/png": "[encoded data removed]",
      "text/plain": [
       "<Figure size 1152x432 with 1 Axes>"
      ]
     },
     "metadata": {},
     "output_type": "display_data"
    }
   ],
   "source": [
    "# Gráfico com a resposta\n",
    "\n",
    "# Tamanho da figura\n",
    "plt.figure(figsize = (16, 6))\n",
    "\n",
    "# Gráfico de pizza\n",
    "plt.pie(df_p5['Valor_Venda'], \n",
    "        labels = df_p5['Segmento'],\n",
    "        autopct = autopct_format(df_p5['Valor_Venda']),\n",
    "        startangle = 90)\n",
    "\n",
    "# Limpa o círculo central\n",
    "centre_circle = plt.Circle((0, 0), 0.82, fc = 'white')\n",
    "fig = plt.gcf()\n",
    "fig.gca().add_artist(centre_circle)\n",
    "\n",
    "# Labels e anotações\n",
    "plt.annotate('Total de Vendas: $ ' + str(int(sum(df_p5['Valor_Venda']))), xy = (1.1, 0))\n",
    "plt.title('Total de Vendas Por Segmento')\n",
    "plt.show()"
   ]
  },
  {
   "cell_type": "markdown",
   "metadata": {
    "id": "yvjQ_84VNvee"
   },
   "source": [
    "##**Pergunta 6** (Nível Iniciante)\n",
    "Qual o Total de Vendas Por Segmento e Por Ano?"
   ]
  },
  {
   "cell_type": "markdown",
   "metadata": {
    "id": "R7VXrZ5mN4EJ"
   },
   "source": [
    "##**Pergunta 7** (Nível Júnior)\n",
    "Os gestores da empresa estão considerando conceder diferentes faixas de descontos e gostariam de fazer uma simulação com base na regra abaixo:\n",
    "\n",
    "Se o Valor_Venda for maior que 1000 recebe 15% de desconto.\n",
    "\n",
    "Se o Valor_Venda for menor que 1000 recebe 10% de desconto.\n",
    "\n",
    "Quantas Vendas Receberiam 15% de Desconto?"
   ]
  },
  {
   "cell_type": "markdown",
   "metadata": {
    "id": "xYKcGxZiOKgi"
   },
   "source": [
    "##**Pergunta 8** (Nível Master)\n",
    "Considere Que a Empresa Decida Conceder o Desconto de 15% do Item Anterior. Qual Seria a Média do Valor de Venda Antes e Depois do Desconto?"
   ]
  },
  {
   "cell_type": "markdown",
   "metadata": {
    "id": "U1irjH-sOViC"
   },
   "source": [
    "##**Pergunta 9** (Nível Master Ninja)\n",
    "Qual o Média de Vendas Por Segmento, Por Ano e Por Mês?\n",
    "Demonstre o resultado através de gráfico de linha."
   ]
  },
  {
   "cell_type": "markdown",
   "metadata": {
    "id": "fGAs2b1kOgy5"
   },
   "source": [
    "##**Pergunta 10** (Nível Master Ninja Galático)\n",
    "Qual o Total de Vendas Por Categoria e SubCategoria, Considerando Somente as Top 12 SubCategorias?\n",
    "\n",
    "Demonstre tudo através de um único gráfico.\n"
   ]
  }
 ],
 "metadata": {
  "colab": {
   "provenance": []
  },
  "kernelspec": {
   "display_name": "Python 3",
   "language": "python",
   "name": "python3"
  },
  "language_info": {
   "codemirror_mode": {
    "name": "ipython",
    "version": 3
   },
   "file_extension": ".py",
   "mimetype": "text/x-python",
   "name": "python",
   "nbconvert_exporter": "python",
   "pygments_lexer": "ipython3",
   "version": "3.7.5"
  },
  "varInspector": {
   "cols": {
    "lenName": 16,
    "lenType": 16,
    "lenVar": 40
   },
   "kernels_config": {
    "python": {
     "delete_cmd_postfix": "",
     "delete_cmd_prefix": "del ",
     "library": "var_list.py",
     "varRefreshCmd": "print(var_dic_list())"
    },
    "r": {
     "delete_cmd_postfix": ") ",
     "delete_cmd_prefix": "rm(",
     "library": "var_list.r",
     "varRefreshCmd": "cat(var_dic_list()) "
    }
   },
   "types_to_exclude": [
    "module",
    "function",
    "builtin_function_or_method",
    "instance",
    "_Feature"
   ],
   "window_display": false
  }
 },
 "nbformat": 4,
 "nbformat_minor": 1
}
