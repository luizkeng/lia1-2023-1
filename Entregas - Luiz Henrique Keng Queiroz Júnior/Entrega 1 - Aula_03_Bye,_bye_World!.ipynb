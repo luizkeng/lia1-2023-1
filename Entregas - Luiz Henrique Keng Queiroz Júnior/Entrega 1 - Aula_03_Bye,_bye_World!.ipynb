{
  "cells": [
    {
      "cell_type": "markdown",
      "metadata": {
        "id": "view-in-github",
        "colab_type": "text"
      },
      "source": [
        "<a href=\"https://colab.research.google.com/github/luizkeng/lia1-2023-1/blob/main/Aula_03_Bye%2C_bye_World!.ipynb\" target=\"_parent\"><img src=\"https://colab.research.google.com/assets/colab-badge.svg\" alt=\"Open In Colab\"/></a>"
      ]
    },
    {
      "cell_type": "markdown",
      "metadata": {
        "id": "NRj0wpPgmACb"
      },
      "source": [
        "<hr style=\"height:10px\"> \n",
        " \n",
        "<div class='container2'>\n",
        "\t\t<div>\n",
        "\t\t\t<img src='images\\header.png' ALIGN='left' style='width:10em'>\n",
        "\t\t</div>\t\n",
        "\t<div style='padding: 0 7em 2em 12em;'>\n",
        "\t<h1>Laboratório de Inovação e Automação 1 (LIA 1)</h1>\n",
        "\t<div style=\"font-size:12pt;float:left;\"> 2023/1 | 46M34 | Sala 200 CAE</div><br><br>\n",
        "    <div style=\"font-size:12pt;float:left;\"><b>Projetos de Inteligência Artificial</b></div>\n",
        "\t</div>\n",
        "</div>\n",
        "\n",
        "\n",
        " <hr style=\"height:5px\"> \n",
        "\n",
        "    \n",
        "<h2>Introdução ao Ambiente de Projetos - Python</h2>\n",
        "\n",
        "Notebook desenvolvido por: <a href=\"http://lattes.cnpq.br/1346824250595330\">Prof. Dr. Adriano C. Santana</a>\n",
        "\n",
        " <hr style=\"height:2px\"> \n"
      ]
    },
    {
      "cell_type": "code",
      "source": [
        "from google.colab import drive\n",
        "drive.mount('/content/drive')"
      ],
      "metadata": {
        "colab": {
          "base_uri": "https://localhost:8080/"
        },
        "id": "gQohdkdroHuU",
        "outputId": "dea0ee0f-b683-492c-a483-ea999fb8b21c"
      },
      "execution_count": 1,
      "outputs": [
        {
          "output_type": "stream",
          "name": "stdout",
          "text": [
            "Mounted at /content/drive\n"
          ]
        }
      ]
    },
    {
      "cell_type": "code",
      "execution_count": 1,
      "metadata": {
        "colab": {
          "base_uri": "https://localhost:8080/"
        },
        "id": "3PdEXxexmACg",
        "outputId": "39be205d-d8f0-4f7c-f16d-705b481a4ea5"
      },
      "outputs": [
        {
          "output_type": "stream",
          "name": "stdout",
          "text": [
            "A versão em uso é 3.10.11.\n"
          ]
        }
      ],
      "source": [
        "from platform import python_version\n",
        "print(f'A versão em uso é {python_version()}.')"
      ]
    },
    {
      "cell_type": "code",
      "execution_count": 2,
      "metadata": {
        "colab": {
          "base_uri": "https://localhost:8080/"
        },
        "id": "sfyjZhgjmACi",
        "outputId": "58d98356-3f00-4e45-d015-cb8b110622ca"
      },
      "outputs": [
        {
          "output_type": "stream",
          "name": "stdout",
          "text": [
            "Bye bye, World!\n"
          ]
        }
      ],
      "source": [
        "# Verificar se o Python está funcionando\n",
        "print('Bye bye, World!')"
      ]
    },
    {
      "cell_type": "markdown",
      "metadata": {
        "id": "R48bHcdSmACk"
      },
      "source": [
        "# Operadores Aritméticos"
      ]
    },
    {
      "cell_type": "code",
      "execution_count": 3,
      "metadata": {
        "colab": {
          "base_uri": "https://localhost:8080/"
        },
        "id": "SaJZtw51mACk",
        "outputId": "31f68df5-096c-4e76-8cc1-1c9da68bdcb8"
      },
      "outputs": [
        {
          "output_type": "execute_result",
          "data": {
            "text/plain": [
              "2"
            ]
          },
          "metadata": {},
          "execution_count": 3
        }
      ],
      "source": [
        "# Adição\n",
        "1 + 1"
      ]
    },
    {
      "cell_type": "code",
      "execution_count": 4,
      "metadata": {
        "colab": {
          "base_uri": "https://localhost:8080/"
        },
        "id": "t4sRX6kcmACl",
        "outputId": "16260146-bc3a-488d-a1a9-8c76a8b17dde"
      },
      "outputs": [
        {
          "output_type": "execute_result",
          "data": {
            "text/plain": [
              "1"
            ]
          },
          "metadata": {},
          "execution_count": 4
        }
      ],
      "source": [
        "# Subtração\n",
        "2 - 1"
      ]
    },
    {
      "cell_type": "code",
      "execution_count": 5,
      "metadata": {
        "colab": {
          "base_uri": "https://localhost:8080/"
        },
        "id": "QWAJlac_mACl",
        "outputId": "fca2ae5a-8e77-4654-9ec5-a6f9eaf5418b"
      },
      "outputs": [
        {
          "output_type": "execute_result",
          "data": {
            "text/plain": [
              "4"
            ]
          },
          "metadata": {},
          "execution_count": 5
        }
      ],
      "source": [
        "# Multiplicação\n",
        "2 * 2"
      ]
    },
    {
      "cell_type": "code",
      "execution_count": 6,
      "metadata": {
        "colab": {
          "base_uri": "https://localhost:8080/"
        },
        "id": "5wIV3VYqmACn",
        "outputId": "3d708237-e4a3-4cc7-c1f9-0b8e94164f9e"
      },
      "outputs": [
        {
          "output_type": "execute_result",
          "data": {
            "text/plain": [
              "1.5"
            ]
          },
          "metadata": {},
          "execution_count": 6
        }
      ],
      "source": [
        "# Divisão\n",
        "3 / 2"
      ]
    },
    {
      "cell_type": "code",
      "execution_count": 7,
      "metadata": {
        "colab": {
          "base_uri": "https://localhost:8080/"
        },
        "id": "vbPrq9Y2mACn",
        "outputId": "1d9220e3-7f43-4695-a073-cc9b8d9f7169"
      },
      "outputs": [
        {
          "output_type": "execute_result",
          "data": {
            "text/plain": [
              "16"
            ]
          },
          "metadata": {},
          "execution_count": 7
        }
      ],
      "source": [
        "# Potência\n",
        "4 ** 2"
      ]
    },
    {
      "cell_type": "code",
      "execution_count": 8,
      "metadata": {
        "colab": {
          "base_uri": "https://localhost:8080/"
        },
        "id": "fmAJYItlmACp",
        "outputId": "5cfe4e93-940a-408f-b920-3c8ff10c8f1a"
      },
      "outputs": [
        {
          "output_type": "execute_result",
          "data": {
            "text/plain": [
              "1"
            ]
          },
          "metadata": {},
          "execution_count": 8
        }
      ],
      "source": [
        "# Módulo (resto da divisão)\n",
        "10 % 3"
      ]
    },
    {
      "cell_type": "markdown",
      "metadata": {
        "id": "a0_Qkh5cmACq"
      },
      "source": [
        "# Tipo de Dados (Type)"
      ]
    },
    {
      "cell_type": "code",
      "execution_count": 9,
      "metadata": {
        "colab": {
          "base_uri": "https://localhost:8080/"
        },
        "id": "oUeEzs43mACr",
        "outputId": "a0322b9d-2776-44ba-d305-dbd5f97613ed"
      },
      "outputs": [
        {
          "output_type": "execute_result",
          "data": {
            "text/plain": [
              "int"
            ]
          },
          "metadata": {},
          "execution_count": 9
        }
      ],
      "source": [
        "# Qual o tipo do (?) -> Inteiro\n",
        "type(5)"
      ]
    },
    {
      "cell_type": "code",
      "execution_count": 10,
      "metadata": {
        "colab": {
          "base_uri": "https://localhost:8080/"
        },
        "id": "j2peSOWYmACs",
        "outputId": "7acfee68-e15c-4111-c487-5f7c6039f56e"
      },
      "outputs": [
        {
          "output_type": "execute_result",
          "data": {
            "text/plain": [
              "float"
            ]
          },
          "metadata": {},
          "execution_count": 10
        }
      ],
      "source": [
        "# Qual o tipo do (?) -> Float - Decimal\n",
        "type(5.0)"
      ]
    },
    {
      "cell_type": "code",
      "execution_count": 11,
      "metadata": {
        "colab": {
          "base_uri": "https://localhost:8080/"
        },
        "id": "XHAQYP8cmACs",
        "outputId": "141bfc6f-a388-4b94-e6cb-ceb33fcd925b"
      },
      "outputs": [
        {
          "output_type": "execute_result",
          "data": {
            "text/plain": [
              "str"
            ]
          },
          "metadata": {},
          "execution_count": 11
        }
      ],
      "source": [
        "# Qual o tipo do (?) -> String\n",
        "a = 'Estudando Python!'\n",
        "type(a)"
      ]
    },
    {
      "cell_type": "markdown",
      "metadata": {
        "id": "vRMqHRRWmACt"
      },
      "source": [
        "# Condicional if"
      ]
    },
    {
      "cell_type": "code",
      "execution_count": 12,
      "metadata": {
        "colab": {
          "base_uri": "https://localhost:8080/"
        },
        "id": "mvT6-99kmACu",
        "outputId": "5e5fc3aa-0fa3-4b68-9c91-e70499d2f348"
      },
      "outputs": [
        {
          "output_type": "stream",
          "name": "stdout",
          "text": [
            "A sentença é verdadeira!\n"
          ]
        }
      ],
      "source": [
        "# Condicional if (Se)\n",
        "if 5 > 2:\n",
        "    print(\"A sentença é verdadeira!\")"
      ]
    },
    {
      "cell_type": "code",
      "execution_count": 13,
      "metadata": {
        "colab": {
          "base_uri": "https://localhost:8080/"
        },
        "id": "_GavUKsKmACv",
        "outputId": "4d4b9740-fa38-4b41-a07f-61fdd3c75b17"
      },
      "outputs": [
        {
          "output_type": "stream",
          "name": "stdout",
          "text": [
            "A sentença é falsa!\n"
          ]
        }
      ],
      "source": [
        "# Condicional if...else\n",
        "if 5 < 2:\n",
        "    print(\"A sentença é verdadeira!\")\n",
        "else:\n",
        "    print(\"A sentença é falsa!\")"
      ]
    },
    {
      "cell_type": "code",
      "execution_count": 14,
      "metadata": {
        "colab": {
          "base_uri": "https://localhost:8080/"
        },
        "id": "ugwgIQkKmACv",
        "outputId": "57222f66-9a1f-4156-853d-a3c8982f2fe3"
      },
      "outputs": [
        {
          "output_type": "stream",
          "name": "stdout",
          "text": [
            "Hoje vai chover!\n"
          ]
        }
      ],
      "source": [
        "# Condicional if...else com variável\n",
        "dia = \"Quarta-feira\"\n",
        "if dia == \"Sexta-feira\":\n",
        "    print(\"Hoje fará sol!\")\n",
        "else:\n",
        "    print(\"Hoje vai chover!\")"
      ]
    },
    {
      "cell_type": "markdown",
      "metadata": {
        "id": "yhSsbouVmACw"
      },
      "source": [
        "# Manipulando arquivos"
      ]
    },
    {
      "cell_type": "markdown",
      "metadata": {
        "id": "lhPp3Z-JmACw"
      },
      "source": [
        "### Lendo arquivos (.txt)"
      ]
    },
    {
      "cell_type": "code",
      "execution_count": 4,
      "metadata": {
        "id": "4RijcZZRmACx"
      },
      "outputs": [],
      "source": [
        "# Abrindo o arquivo para leitura\n",
        "a1 = open(\"/content/drive/MyDrive/Lab Inovação e Automação 1/arquivos/arquivo_1.txt\", \"r\")"
      ]
    },
    {
      "cell_type": "code",
      "execution_count": 5,
      "metadata": {
        "colab": {
          "base_uri": "https://localhost:8080/"
        },
        "id": "oeMWHw3CmACx",
        "outputId": "f48514f9-5e83-446d-b7d8-b20090297a36"
      },
      "outputs": [
        {
          "output_type": "stream",
          "name": "stdout",
          "text": [
            "Bom dia, aula 03!!\n"
          ]
        }
      ],
      "source": [
        "# Lendo o arquivo\n",
        "print(a1.read())"
      ]
    },
    {
      "cell_type": "markdown",
      "metadata": {
        "id": "rHQP-gxgmACx"
      },
      "source": [
        "### Gravando arquivos (.txt)"
      ]
    },
    {
      "cell_type": "code",
      "execution_count": 6,
      "metadata": {
        "id": "K6fw9vNNmACz"
      },
      "outputs": [],
      "source": [
        "# Abrindo o arquivo para gravação\n",
        "a2 = open(\"/content/drive/MyDrive/Lab Inovação e Automação 1/arquivos/arquivo_2.txt\", \"w\")"
      ]
    },
    {
      "cell_type": "code",
      "execution_count": 7,
      "metadata": {
        "colab": {
          "base_uri": "https://localhost:8080/"
        },
        "id": "IF0anQ4DmACz",
        "outputId": "4c212d65-2225-456a-9ae8-eedfce51c8ad"
      },
      "outputs": [
        {
          "output_type": "execute_result",
          "data": {
            "text/plain": [
              "18"
            ]
          },
          "metadata": {},
          "execution_count": 7
        }
      ],
      "source": [
        "# Gravando no arquivo\n",
        "a2.write(\"Aprendendo Python!\")"
      ]
    },
    {
      "cell_type": "code",
      "execution_count": 8,
      "metadata": {
        "id": "z_8til8emACz"
      },
      "outputs": [],
      "source": [
        "# Abrindo o arquivo para leitura\n",
        "a2 = open(\"/content/drive/MyDrive/Lab Inovação e Automação 1/arquivos/arquivo_2.txt\", \"r\")"
      ]
    },
    {
      "cell_type": "code",
      "execution_count": 9,
      "metadata": {
        "colab": {
          "base_uri": "https://localhost:8080/"
        },
        "id": "OssgBq5XmACz",
        "outputId": "434ee0df-7730-4483-8b3b-6ef9d7206d6f"
      },
      "outputs": [
        {
          "output_type": "stream",
          "name": "stdout",
          "text": [
            "Aprendendo Python!\n"
          ]
        }
      ],
      "source": [
        "# Imprimindo arquivo\n",
        "print(a2.read())"
      ]
    }
  ],
  "metadata": {
    "kernelspec": {
      "display_name": "Python 3 (ipykernel)",
      "language": "python",
      "name": "python3"
    },
    "language_info": {
      "codemirror_mode": {
        "name": "ipython",
        "version": 3
      },
      "file_extension": ".py",
      "mimetype": "text/x-python",
      "name": "python",
      "nbconvert_exporter": "python",
      "pygments_lexer": "ipython3",
      "version": "3.9.13"
    },
    "colab": {
      "provenance": [],
      "include_colab_link": true
    },
    "accelerator": "GPU",
    "gpuClass": "standard"
  },
  "nbformat": 4,
  "nbformat_minor": 0
}
