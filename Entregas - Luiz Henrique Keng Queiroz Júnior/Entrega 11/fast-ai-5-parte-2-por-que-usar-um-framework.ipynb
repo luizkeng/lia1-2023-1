{
 "cells": [
  {
   "cell_type": "markdown",
   "id": "d4a31cf9",
   "metadata": {
    "papermill": {
     "duration": 0.007185,
     "end_time": "2023-07-21T22:52:03.961843",
     "exception": false,
     "start_time": "2023-07-21T22:52:03.954658",
     "status": "completed"
    },
    "tags": []
   },
   "source": [
    "## Import inicial"
   ]
  },
  {
   "cell_type": "code",
   "execution_count": 1,
   "id": "d172c580",
   "metadata": {
    "execution": {
     "iopub.execute_input": "2023-07-21T22:52:03.976151Z",
     "iopub.status.busy": "2023-07-21T22:52:03.975480Z",
     "iopub.status.idle": "2023-07-21T22:52:17.885573Z",
     "shell.execute_reply": "2023-07-21T22:52:17.884263Z"
    },
    "papermill": {
     "duration": 13.920119,
     "end_time": "2023-07-21T22:52:17.888257",
     "exception": false,
     "start_time": "2023-07-21T22:52:03.968138",
     "status": "completed"
    },
    "tags": []
   },
   "outputs": [],
   "source": [
    "from pathlib import Path\n",
    "import os\n",
    "\n",
    "iskaggle = os.environ.get('KAGGLE_KERNEL_RUN_TYPE', '')\n",
    "if iskaggle:\n",
    "    path = Path('../input/titanic')\n",
    "    !pip install -Uqq fastai\n",
    "else:\n",
    "    import zipfile,kaggle\n",
    "    path = Path('titanic')\n",
    "    if not path.exists():\n",
    "        kaggle.api.competition_download_cli(str(path))\n",
    "        zipfile.ZipFile(f'{path}.zip').extractall(path)"
   ]
  },
  {
   "cell_type": "code",
   "execution_count": 2,
   "id": "03158176",
   "metadata": {
    "execution": {
     "iopub.execute_input": "2023-07-21T22:52:17.902119Z",
     "iopub.status.busy": "2023-07-21T22:52:17.901812Z",
     "iopub.status.idle": "2023-07-21T22:52:23.239166Z",
     "shell.execute_reply": "2023-07-21T22:52:23.238190Z"
    },
    "papermill": {
     "duration": 5.347097,
     "end_time": "2023-07-21T22:52:23.241645",
     "exception": false,
     "start_time": "2023-07-21T22:52:17.894548",
     "status": "completed"
    },
    "tags": []
   },
   "outputs": [
    {
     "name": "stderr",
     "output_type": "stream",
     "text": [
      "/opt/conda/lib/python3.10/site-packages/scipy/__init__.py:146: UserWarning: A NumPy version >=1.16.5 and <1.23.0 is required for this version of SciPy (detected version 1.23.5\n",
      "  warnings.warn(f\"A NumPy version >={np_minversion} and <{np_maxversion}\"\n"
     ]
    }
   ],
   "source": [
    "from fastai.tabular.all import *\n",
    "\n",
    "pd.options.display.float_format = '{:.2f}'.format\n",
    "set_seed(42)"
   ]
  },
  {
   "cell_type": "markdown",
   "id": "e6f1ce76",
   "metadata": {
    "papermill": {
     "duration": 0.0068,
     "end_time": "2023-07-21T22:52:23.256025",
     "exception": false,
     "start_time": "2023-07-21T22:52:23.249225",
     "status": "completed"
    },
    "tags": []
   },
   "source": [
    "## Prerando os dados"
   ]
  },
  {
   "cell_type": "code",
   "execution_count": 3,
   "id": "9a308861",
   "metadata": {
    "execution": {
     "iopub.execute_input": "2023-07-21T22:52:23.271063Z",
     "iopub.status.busy": "2023-07-21T22:52:23.269357Z",
     "iopub.status.idle": "2023-07-21T22:52:23.291135Z",
     "shell.execute_reply": "2023-07-21T22:52:23.290187Z"
    },
    "papermill": {
     "duration": 0.031003,
     "end_time": "2023-07-21T22:52:23.293145",
     "exception": false,
     "start_time": "2023-07-21T22:52:23.262142",
     "status": "completed"
    },
    "tags": []
   },
   "outputs": [],
   "source": [
    "df = pd.read_csv(path/'train.csv')"
   ]
  },
  {
   "cell_type": "code",
   "execution_count": 4,
   "id": "12fe42fe",
   "metadata": {
    "execution": {
     "iopub.execute_input": "2023-07-21T22:52:23.307552Z",
     "iopub.status.busy": "2023-07-21T22:52:23.306600Z",
     "iopub.status.idle": "2023-07-21T22:52:23.337802Z",
     "shell.execute_reply": "2023-07-21T22:52:23.336676Z"
    },
    "papermill": {
     "duration": 0.041003,
     "end_time": "2023-07-21T22:52:23.340218",
     "exception": false,
     "start_time": "2023-07-21T22:52:23.299215",
     "status": "completed"
    },
    "tags": []
   },
   "outputs": [],
   "source": [
    "def add_features(df):\n",
    "    df['LogFare'] = np.log1p(df['Fare'])\n",
    "    df['Deck'] = df.Cabin.str[0].map(dict(A=\"ABC\", B=\"ABC\", C=\"ABC\", D=\"DE\", E=\"DE\", F=\"FG\", G=\"FG\"))\n",
    "    df['Family'] = df.SibSp+df.Parch\n",
    "    df['Alone'] = df.Family==0\n",
    "    df['TicketFreq'] = df.groupby('Ticket')['Ticket'].transform('count')\n",
    "    df['Title'] = df.Name.str.split(', ', expand=True)[1].str.split('.', expand=True)[0]\n",
    "    df['Title'] = df.Title.map(dict(Mr=\"Mr\",Miss=\"Miss\",Mrs=\"Mrs\",Master=\"Master\"))\n",
    "\n",
    "add_features(df)"
   ]
  },
  {
   "cell_type": "code",
   "execution_count": 5,
   "id": "9624ac94",
   "metadata": {
    "execution": {
     "iopub.execute_input": "2023-07-21T22:52:23.355388Z",
     "iopub.status.busy": "2023-07-21T22:52:23.353883Z",
     "iopub.status.idle": "2023-07-21T22:52:23.389840Z",
     "shell.execute_reply": "2023-07-21T22:52:23.388878Z"
    },
    "papermill": {
     "duration": 0.045796,
     "end_time": "2023-07-21T22:52:23.392213",
     "exception": false,
     "start_time": "2023-07-21T22:52:23.346417",
     "status": "completed"
    },
    "tags": []
   },
   "outputs": [],
   "source": [
    "splits = RandomSplitter(seed=42)(df)"
   ]
  },
  {
   "cell_type": "code",
   "execution_count": 6,
   "id": "8e396546",
   "metadata": {
    "execution": {
     "iopub.execute_input": "2023-07-21T22:52:23.405485Z",
     "iopub.status.busy": "2023-07-21T22:52:23.405222Z",
     "iopub.status.idle": "2023-07-21T22:52:23.610928Z",
     "shell.execute_reply": "2023-07-21T22:52:23.609899Z"
    },
    "papermill": {
     "duration": 0.215098,
     "end_time": "2023-07-21T22:52:23.613565",
     "exception": false,
     "start_time": "2023-07-21T22:52:23.398467",
     "status": "completed"
    },
    "tags": []
   },
   "outputs": [],
   "source": [
    "dls = TabularPandas(\n",
    "    df, splits=splits,\n",
    "    procs = [Categorify, FillMissing, Normalize],\n",
    "    cat_names=[\"Sex\",\"Pclass\",\"Embarked\",\"Deck\", \"Title\"],\n",
    "    cont_names=['Age', 'SibSp', 'Parch', 'LogFare', 'Alone', 'TicketFreq', 'Family'],\n",
    "    y_names=\"Survived\", y_block = CategoryBlock(),\n",
    ").dataloaders(path=\".\")"
   ]
  },
  {
   "cell_type": "markdown",
   "id": "6962c44e",
   "metadata": {
    "execution": {
     "iopub.execute_input": "2023-07-21T22:32:26.010649Z",
     "iopub.status.busy": "2023-07-21T22:32:26.010188Z",
     "iopub.status.idle": "2023-07-21T22:32:26.015805Z",
     "shell.execute_reply": "2023-07-21T22:32:26.014820Z",
     "shell.execute_reply.started": "2023-07-21T22:32:26.010611Z"
    },
    "papermill": {
     "duration": 0.005715,
     "end_time": "2023-07-21T22:52:23.626127",
     "exception": false,
     "start_time": "2023-07-21T22:52:23.620412",
     "status": "completed"
    },
    "tags": []
   },
   "source": [
    "## Treinando o modelo"
   ]
  },
  {
   "cell_type": "code",
   "execution_count": 7,
   "id": "819f8974",
   "metadata": {
    "execution": {
     "iopub.execute_input": "2023-07-21T22:52:23.639151Z",
     "iopub.status.busy": "2023-07-21T22:52:23.638834Z",
     "iopub.status.idle": "2023-07-21T22:52:23.683466Z",
     "shell.execute_reply": "2023-07-21T22:52:23.682583Z"
    },
    "papermill": {
     "duration": 0.053702,
     "end_time": "2023-07-21T22:52:23.685663",
     "exception": false,
     "start_time": "2023-07-21T22:52:23.631961",
     "status": "completed"
    },
    "tags": []
   },
   "outputs": [],
   "source": [
    "learn = tabular_learner(dls, metrics=accuracy, layers=[10,10])"
   ]
  },
  {
   "cell_type": "code",
   "execution_count": 8,
   "id": "516af799",
   "metadata": {
    "execution": {
     "iopub.execute_input": "2023-07-21T22:52:23.698834Z",
     "iopub.status.busy": "2023-07-21T22:52:23.698535Z",
     "iopub.status.idle": "2023-07-21T22:52:31.792895Z",
     "shell.execute_reply": "2023-07-21T22:52:31.791803Z"
    },
    "papermill": {
     "duration": 8.1035,
     "end_time": "2023-07-21T22:52:31.795019",
     "exception": false,
     "start_time": "2023-07-21T22:52:23.691519",
     "status": "completed"
    },
    "tags": []
   },
   "outputs": [
    {
     "data": {
      "text/html": [
       "\n",
       "<style>\n",
       "    /* Turns off some styling */\n",
       "    progress {\n",
       "        /* gets rid of default border in Firefox and Opera. */\n",
       "        border: none;\n",
       "        /* Needs to be in here for Safari polyfill so background images work as expected. */\n",
       "        background-size: auto;\n",
       "    }\n",
       "    progress:not([value]), progress:not([value])::-webkit-progress-bar {\n",
       "        background: repeating-linear-gradient(45deg, #7e7e7e, #7e7e7e 10px, #5c5c5c 10px, #5c5c5c 20px);\n",
       "    }\n",
       "    .progress-bar-interrupted, .progress-bar-interrupted::-webkit-progress-bar {\n",
       "        background: #F44336;\n",
       "    }\n",
       "</style>\n"
      ],
      "text/plain": [
       "<IPython.core.display.HTML object>"
      ]
     },
     "metadata": {},
     "output_type": "display_data"
    },
    {
     "data": {
      "text/html": [],
      "text/plain": [
       "<IPython.core.display.HTML object>"
      ]
     },
     "metadata": {},
     "output_type": "display_data"
    },
    {
     "data": {
      "text/plain": [
       "SuggestedLRs(slide=0.05754399299621582, valley=0.013182567432522774)"
      ]
     },
     "execution_count": 8,
     "metadata": {},
     "output_type": "execute_result"
    },
    {
     "data": {
      "image/png": "[encoded data removed]",
      "text/plain": [
       "<Figure size 640x480 with 1 Axes>"
      ]
     },
     "metadata": {},
     "output_type": "display_data"
    }
   ],
   "source": [
    "learn.lr_find(suggest_funcs=(slide, valley))"
   ]
  },
  {
   "cell_type": "code",
   "execution_count": 9,
   "id": "a642bb19",
   "metadata": {
    "execution": {
     "iopub.execute_input": "2023-07-21T22:52:31.812158Z",
     "iopub.status.busy": "2023-07-21T22:52:31.810462Z",
     "iopub.status.idle": "2023-07-21T22:52:34.414996Z",
     "shell.execute_reply": "2023-07-21T22:52:34.414007Z"
    },
    "papermill": {
     "duration": 2.614967,
     "end_time": "2023-07-21T22:52:34.417278",
     "exception": false,
     "start_time": "2023-07-21T22:52:31.802311",
     "status": "completed"
    },
    "tags": []
   },
   "outputs": [
    {
     "data": {
      "text/html": [
       "\n",
       "<style>\n",
       "    /* Turns off some styling */\n",
       "    progress {\n",
       "        /* gets rid of default border in Firefox and Opera. */\n",
       "        border: none;\n",
       "        /* Needs to be in here for Safari polyfill so background images work as expected. */\n",
       "        background-size: auto;\n",
       "    }\n",
       "    progress:not([value]), progress:not([value])::-webkit-progress-bar {\n",
       "        background: repeating-linear-gradient(45deg, #7e7e7e, #7e7e7e 10px, #5c5c5c 10px, #5c5c5c 20px);\n",
       "    }\n",
       "    .progress-bar-interrupted, .progress-bar-interrupted::-webkit-progress-bar {\n",
       "        background: #F44336;\n",
       "    }\n",
       "</style>\n"
      ],
      "text/plain": [
       "<IPython.core.display.HTML object>"
      ]
     },
     "metadata": {},
     "output_type": "display_data"
    },
    {
     "data": {
      "text/html": [
       "<table border=\"1\" class=\"dataframe\">\n",
       "  <thead>\n",
       "    <tr style=\"text-align: left;\">\n",
       "      <th>epoch</th>\n",
       "      <th>train_loss</th>\n",
       "      <th>valid_loss</th>\n",
       "      <th>accuracy</th>\n",
       "      <th>time</th>\n",
       "    </tr>\n",
       "  </thead>\n",
       "  <tbody>\n",
       "    <tr>\n",
       "      <td>0</td>\n",
       "      <td>0.577146</td>\n",
       "      <td>0.582949</td>\n",
       "      <td>0.606742</td>\n",
       "      <td>00:00</td>\n",
       "    </tr>\n",
       "    <tr>\n",
       "      <td>1</td>\n",
       "      <td>0.510818</td>\n",
       "      <td>0.498523</td>\n",
       "      <td>0.786517</td>\n",
       "      <td>00:00</td>\n",
       "    </tr>\n",
       "    <tr>\n",
       "      <td>2</td>\n",
       "      <td>0.467023</td>\n",
       "      <td>0.459841</td>\n",
       "      <td>0.797753</td>\n",
       "      <td>00:00</td>\n",
       "    </tr>\n",
       "    <tr>\n",
       "      <td>3</td>\n",
       "      <td>0.439957</td>\n",
       "      <td>0.468547</td>\n",
       "      <td>0.797753</td>\n",
       "      <td>00:00</td>\n",
       "    </tr>\n",
       "    <tr>\n",
       "      <td>4</td>\n",
       "      <td>0.427232</td>\n",
       "      <td>0.415261</td>\n",
       "      <td>0.825843</td>\n",
       "      <td>00:00</td>\n",
       "    </tr>\n",
       "    <tr>\n",
       "      <td>5</td>\n",
       "      <td>0.416340</td>\n",
       "      <td>0.437362</td>\n",
       "      <td>0.820225</td>\n",
       "      <td>00:00</td>\n",
       "    </tr>\n",
       "    <tr>\n",
       "      <td>6</td>\n",
       "      <td>0.408347</td>\n",
       "      <td>0.413253</td>\n",
       "      <td>0.848315</td>\n",
       "      <td>00:00</td>\n",
       "    </tr>\n",
       "    <tr>\n",
       "      <td>7</td>\n",
       "      <td>0.400442</td>\n",
       "      <td>0.406075</td>\n",
       "      <td>0.803371</td>\n",
       "      <td>00:00</td>\n",
       "    </tr>\n",
       "    <tr>\n",
       "      <td>8</td>\n",
       "      <td>0.397265</td>\n",
       "      <td>0.443730</td>\n",
       "      <td>0.820225</td>\n",
       "      <td>00:00</td>\n",
       "    </tr>\n",
       "    <tr>\n",
       "      <td>9</td>\n",
       "      <td>0.392389</td>\n",
       "      <td>0.432267</td>\n",
       "      <td>0.831461</td>\n",
       "      <td>00:00</td>\n",
       "    </tr>\n",
       "    <tr>\n",
       "      <td>10</td>\n",
       "      <td>0.389983</td>\n",
       "      <td>0.415383</td>\n",
       "      <td>0.831461</td>\n",
       "      <td>00:00</td>\n",
       "    </tr>\n",
       "    <tr>\n",
       "      <td>11</td>\n",
       "      <td>0.386057</td>\n",
       "      <td>0.425319</td>\n",
       "      <td>0.820225</td>\n",
       "      <td>00:00</td>\n",
       "    </tr>\n",
       "    <tr>\n",
       "      <td>12</td>\n",
       "      <td>0.382527</td>\n",
       "      <td>0.435054</td>\n",
       "      <td>0.831461</td>\n",
       "      <td>00:00</td>\n",
       "    </tr>\n",
       "    <tr>\n",
       "      <td>13</td>\n",
       "      <td>0.378309</td>\n",
       "      <td>0.429746</td>\n",
       "      <td>0.831461</td>\n",
       "      <td>00:00</td>\n",
       "    </tr>\n",
       "    <tr>\n",
       "      <td>14</td>\n",
       "      <td>0.374304</td>\n",
       "      <td>0.419489</td>\n",
       "      <td>0.825843</td>\n",
       "      <td>00:00</td>\n",
       "    </tr>\n",
       "    <tr>\n",
       "      <td>15</td>\n",
       "      <td>0.372190</td>\n",
       "      <td>0.425430</td>\n",
       "      <td>0.831461</td>\n",
       "      <td>00:00</td>\n",
       "    </tr>\n",
       "  </tbody>\n",
       "</table>"
      ],
      "text/plain": [
       "<IPython.core.display.HTML object>"
      ]
     },
     "metadata": {},
     "output_type": "display_data"
    }
   ],
   "source": [
    "learn.fit(16, lr=0.03)"
   ]
  },
  {
   "cell_type": "markdown",
   "id": "d504a621",
   "metadata": {
    "papermill": {
     "duration": 0.007604,
     "end_time": "2023-07-21T22:52:34.433648",
     "exception": false,
     "start_time": "2023-07-21T22:52:34.426044",
     "status": "completed"
    },
    "tags": []
   },
   "source": [
    "## Submeter no Kaggle"
   ]
  },
  {
   "cell_type": "code",
   "execution_count": 10,
   "id": "376c659e",
   "metadata": {
    "execution": {
     "iopub.execute_input": "2023-07-21T22:52:34.450853Z",
     "iopub.status.busy": "2023-07-21T22:52:34.450124Z",
     "iopub.status.idle": "2023-07-21T22:52:34.473592Z",
     "shell.execute_reply": "2023-07-21T22:52:34.472640Z"
    },
    "papermill": {
     "duration": 0.034433,
     "end_time": "2023-07-21T22:52:34.475858",
     "exception": false,
     "start_time": "2023-07-21T22:52:34.441425",
     "status": "completed"
    },
    "tags": []
   },
   "outputs": [],
   "source": [
    "tst_df = pd.read_csv(path/'test.csv')\n",
    "tst_df['Fare'] = tst_df.Fare.fillna(0)\n",
    "add_features(tst_df)"
   ]
  },
  {
   "cell_type": "code",
   "execution_count": 11,
   "id": "c4f0f282",
   "metadata": {
    "execution": {
     "iopub.execute_input": "2023-07-21T22:52:34.492513Z",
     "iopub.status.busy": "2023-07-21T22:52:34.492226Z",
     "iopub.status.idle": "2023-07-21T22:52:34.512609Z",
     "shell.execute_reply": "2023-07-21T22:52:34.511684Z"
    },
    "papermill": {
     "duration": 0.031423,
     "end_time": "2023-07-21T22:52:34.515000",
     "exception": false,
     "start_time": "2023-07-21T22:52:34.483577",
     "status": "completed"
    },
    "tags": []
   },
   "outputs": [],
   "source": [
    "tst_dl = learn.dls.test_dl(tst_df)"
   ]
  },
  {
   "cell_type": "code",
   "execution_count": 12,
   "id": "80a61019",
   "metadata": {
    "execution": {
     "iopub.execute_input": "2023-07-21T22:52:34.531296Z",
     "iopub.status.busy": "2023-07-21T22:52:34.530555Z",
     "iopub.status.idle": "2023-07-21T22:52:34.604783Z",
     "shell.execute_reply": "2023-07-21T22:52:34.603804Z"
    },
    "papermill": {
     "duration": 0.084511,
     "end_time": "2023-07-21T22:52:34.607024",
     "exception": false,
     "start_time": "2023-07-21T22:52:34.522513",
     "status": "completed"
    },
    "tags": []
   },
   "outputs": [
    {
     "data": {
      "text/html": [
       "\n",
       "<style>\n",
       "    /* Turns off some styling */\n",
       "    progress {\n",
       "        /* gets rid of default border in Firefox and Opera. */\n",
       "        border: none;\n",
       "        /* Needs to be in here for Safari polyfill so background images work as expected. */\n",
       "        background-size: auto;\n",
       "    }\n",
       "    progress:not([value]), progress:not([value])::-webkit-progress-bar {\n",
       "        background: repeating-linear-gradient(45deg, #7e7e7e, #7e7e7e 10px, #5c5c5c 10px, #5c5c5c 20px);\n",
       "    }\n",
       "    .progress-bar-interrupted, .progress-bar-interrupted::-webkit-progress-bar {\n",
       "        background: #F44336;\n",
       "    }\n",
       "</style>\n"
      ],
      "text/plain": [
       "<IPython.core.display.HTML object>"
      ]
     },
     "metadata": {},
     "output_type": "display_data"
    },
    {
     "data": {
      "text/html": [],
      "text/plain": [
       "<IPython.core.display.HTML object>"
      ]
     },
     "metadata": {},
     "output_type": "display_data"
    }
   ],
   "source": [
    "preds,_ = learn.get_preds(dl=tst_dl)"
   ]
  },
  {
   "cell_type": "code",
   "execution_count": 13,
   "id": "4c1d57a5",
   "metadata": {
    "execution": {
     "iopub.execute_input": "2023-07-21T22:52:34.623314Z",
     "iopub.status.busy": "2023-07-21T22:52:34.623041Z",
     "iopub.status.idle": "2023-07-21T22:52:35.643503Z",
     "shell.execute_reply": "2023-07-21T22:52:35.642303Z"
    },
    "papermill": {
     "duration": 1.03137,
     "end_time": "2023-07-21T22:52:35.646037",
     "exception": false,
     "start_time": "2023-07-21T22:52:34.614667",
     "status": "completed"
    },
    "tags": []
   },
   "outputs": [
    {
     "name": "stdout",
     "output_type": "stream",
     "text": [
      "PassengerId,Survived\r\n",
      "892,0\r\n",
      "893,0\r\n",
      "894,0\r\n",
      "895,0\r\n",
      "896,1\r\n",
      "897,0\r\n",
      "898,1\r\n",
      "899,0\r\n",
      "900,1\r\n"
     ]
    }
   ],
   "source": [
    "tst_df['Survived'] = (preds[:,1]>0.5).int()\n",
    "sub_df = tst_df[['PassengerId','Survived']]\n",
    "sub_df.to_csv('sub.csv', index=False)\n",
    "\n",
    "!head sub.csv"
   ]
  },
  {
   "cell_type": "markdown",
   "id": "906251c3",
   "metadata": {
    "papermill": {
     "duration": 0.00822,
     "end_time": "2023-07-21T22:52:35.662428",
     "exception": false,
     "start_time": "2023-07-21T22:52:35.654208",
     "status": "completed"
    },
    "tags": []
   },
   "source": [
    "## Reunindo"
   ]
  },
  {
   "cell_type": "code",
   "execution_count": 14,
   "id": "c15e3d2a",
   "metadata": {
    "execution": {
     "iopub.execute_input": "2023-07-21T22:52:35.682098Z",
     "iopub.status.busy": "2023-07-21T22:52:35.680267Z",
     "iopub.status.idle": "2023-07-21T22:52:35.687226Z",
     "shell.execute_reply": "2023-07-21T22:52:35.686251Z"
    },
    "papermill": {
     "duration": 0.018879,
     "end_time": "2023-07-21T22:52:35.689205",
     "exception": false,
     "start_time": "2023-07-21T22:52:35.670326",
     "status": "completed"
    },
    "tags": []
   },
   "outputs": [],
   "source": [
    "def ensemble():\n",
    "    learn = tabular_learner(dls, metrics=accuracy, layers=[10,10])\n",
    "    with learn.no_bar(),learn.no_logging(): learn.fit(16, lr=0.03)\n",
    "    return learn.get_preds(dl=tst_dl)[0]"
   ]
  },
  {
   "cell_type": "code",
   "execution_count": 15,
   "id": "b46e1cf1",
   "metadata": {
    "execution": {
     "iopub.execute_input": "2023-07-21T22:52:35.706481Z",
     "iopub.status.busy": "2023-07-21T22:52:35.705811Z",
     "iopub.status.idle": "2023-07-21T22:52:46.508340Z",
     "shell.execute_reply": "2023-07-21T22:52:46.507334Z"
    },
    "papermill": {
     "duration": 10.814537,
     "end_time": "2023-07-21T22:52:46.511448",
     "exception": false,
     "start_time": "2023-07-21T22:52:35.696911",
     "status": "completed"
    },
    "tags": []
   },
   "outputs": [
    {
     "data": {
      "text/html": [
       "\n",
       "<style>\n",
       "    /* Turns off some styling */\n",
       "    progress {\n",
       "        /* gets rid of default border in Firefox and Opera. */\n",
       "        border: none;\n",
       "        /* Needs to be in here for Safari polyfill so background images work as expected. */\n",
       "        background-size: auto;\n",
       "    }\n",
       "    progress:not([value]), progress:not([value])::-webkit-progress-bar {\n",
       "        background: repeating-linear-gradient(45deg, #7e7e7e, #7e7e7e 10px, #5c5c5c 10px, #5c5c5c 20px);\n",
       "    }\n",
       "    .progress-bar-interrupted, .progress-bar-interrupted::-webkit-progress-bar {\n",
       "        background: #F44336;\n",
       "    }\n",
       "</style>\n"
      ],
      "text/plain": [
       "<IPython.core.display.HTML object>"
      ]
     },
     "metadata": {},
     "output_type": "display_data"
    },
    {
     "data": {
      "text/html": [],
      "text/plain": [
       "<IPython.core.display.HTML object>"
      ]
     },
     "metadata": {},
     "output_type": "display_data"
    },
    {
     "data": {
      "text/html": [
       "\n",
       "<style>\n",
       "    /* Turns off some styling */\n",
       "    progress {\n",
       "        /* gets rid of default border in Firefox and Opera. */\n",
       "        border: none;\n",
       "        /* Needs to be in here for Safari polyfill so background images work as expected. */\n",
       "        background-size: auto;\n",
       "    }\n",
       "    progress:not([value]), progress:not([value])::-webkit-progress-bar {\n",
       "        background: repeating-linear-gradient(45deg, #7e7e7e, #7e7e7e 10px, #5c5c5c 10px, #5c5c5c 20px);\n",
       "    }\n",
       "    .progress-bar-interrupted, .progress-bar-interrupted::-webkit-progress-bar {\n",
       "        background: #F44336;\n",
       "    }\n",
       "</style>\n"
      ],
      "text/plain": [
       "<IPython.core.display.HTML object>"
      ]
     },
     "metadata": {},
     "output_type": "display_data"
    },
    {
     "data": {
      "text/html": [],
      "text/plain": [
       "<IPython.core.display.HTML object>"
      ]
     },
     "metadata": {},
     "output_type": "display_data"
    },
    {
     "data": {
      "text/html": [
       "\n",
       "<style>\n",
       "    /* Turns off some styling */\n",
       "    progress {\n",
       "        /* gets rid of default border in Firefox and Opera. */\n",
       "        border: none;\n",
       "        /* Needs to be in here for Safari polyfill so background images work as expected. */\n",
       "        background-size: auto;\n",
       "    }\n",
       "    progress:not([value]), progress:not([value])::-webkit-progress-bar {\n",
       "        background: repeating-linear-gradient(45deg, #7e7e7e, #7e7e7e 10px, #5c5c5c 10px, #5c5c5c 20px);\n",
       "    }\n",
       "    .progress-bar-interrupted, .progress-bar-interrupted::-webkit-progress-bar {\n",
       "        background: #F44336;\n",
       "    }\n",
       "</style>\n"
      ],
      "text/plain": [
       "<IPython.core.display.HTML object>"
      ]
     },
     "metadata": {},
     "output_type": "display_data"
    },
    {
     "data": {
      "text/html": [],
      "text/plain": [
       "<IPython.core.display.HTML object>"
      ]
     },
     "metadata": {},
     "output_type": "display_data"
    },
    {
     "data": {
      "text/html": [
       "\n",
       "<style>\n",
       "    /* Turns off some styling */\n",
       "    progress {\n",
       "        /* gets rid of default border in Firefox and Opera. */\n",
       "        border: none;\n",
       "        /* Needs to be in here for Safari polyfill so background images work as expected. */\n",
       "        background-size: auto;\n",
       "    }\n",
       "    progress:not([value]), progress:not([value])::-webkit-progress-bar {\n",
       "        background: repeating-linear-gradient(45deg, #7e7e7e, #7e7e7e 10px, #5c5c5c 10px, #5c5c5c 20px);\n",
       "    }\n",
       "    .progress-bar-interrupted, .progress-bar-interrupted::-webkit-progress-bar {\n",
       "        background: #F44336;\n",
       "    }\n",
       "</style>\n"
      ],
      "text/plain": [
       "<IPython.core.display.HTML object>"
      ]
     },
     "metadata": {},
     "output_type": "display_data"
    },
    {
     "data": {
      "text/html": [],
      "text/plain": [
       "<IPython.core.display.HTML object>"
      ]
     },
     "metadata": {},
     "output_type": "display_data"
    },
    {
     "data": {
      "text/html": [
       "\n",
       "<style>\n",
       "    /* Turns off some styling */\n",
       "    progress {\n",
       "        /* gets rid of default border in Firefox and Opera. */\n",
       "        border: none;\n",
       "        /* Needs to be in here for Safari polyfill so background images work as expected. */\n",
       "        background-size: auto;\n",
       "    }\n",
       "    progress:not([value]), progress:not([value])::-webkit-progress-bar {\n",
       "        background: repeating-linear-gradient(45deg, #7e7e7e, #7e7e7e 10px, #5c5c5c 10px, #5c5c5c 20px);\n",
       "    }\n",
       "    .progress-bar-interrupted, .progress-bar-interrupted::-webkit-progress-bar {\n",
       "        background: #F44336;\n",
       "    }\n",
       "</style>\n"
      ],
      "text/plain": [
       "<IPython.core.display.HTML object>"
      ]
     },
     "metadata": {},
     "output_type": "display_data"
    },
    {
     "data": {
      "text/html": [],
      "text/plain": [
       "<IPython.core.display.HTML object>"
      ]
     },
     "metadata": {},
     "output_type": "display_data"
    }
   ],
   "source": [
    "learns = [ensemble() for _ in range(5)]"
   ]
  },
  {
   "cell_type": "code",
   "execution_count": 16,
   "id": "beef4406",
   "metadata": {
    "execution": {
     "iopub.execute_input": "2023-07-21T22:52:46.542301Z",
     "iopub.status.busy": "2023-07-21T22:52:46.541937Z",
     "iopub.status.idle": "2023-07-21T22:52:46.550554Z",
     "shell.execute_reply": "2023-07-21T22:52:46.549719Z"
    },
    "papermill": {
     "duration": 0.026587,
     "end_time": "2023-07-21T22:52:46.553303",
     "exception": false,
     "start_time": "2023-07-21T22:52:46.526716",
     "status": "completed"
    },
    "tags": []
   },
   "outputs": [],
   "source": [
    "ens_preds = torch.stack(learns).mean(0)"
   ]
  },
  {
   "cell_type": "code",
   "execution_count": 17,
   "id": "214be7d3",
   "metadata": {
    "execution": {
     "iopub.execute_input": "2023-07-21T22:52:46.580076Z",
     "iopub.status.busy": "2023-07-21T22:52:46.579646Z",
     "iopub.status.idle": "2023-07-21T22:52:46.591127Z",
     "shell.execute_reply": "2023-07-21T22:52:46.590309Z"
    },
    "papermill": {
     "duration": 0.027958,
     "end_time": "2023-07-21T22:52:46.594035",
     "exception": false,
     "start_time": "2023-07-21T22:52:46.566077",
     "status": "completed"
    },
    "tags": []
   },
   "outputs": [],
   "source": [
    "tst_df['Survived'] = (ens_preds[:,1]>0.5).int()\n",
    "sub_df = tst_df[['PassengerId','Survived']]\n",
    "sub_df.to_csv('ens_sub.csv', index=False)"
   ]
  }
 ],
 "metadata": {
  "kernelspec": {
   "display_name": "Python 3",
   "language": "python",
   "name": "python3"
  },
  "language_info": {
   "codemirror_mode": {
    "name": "ipython",
    "version": 3
   },
   "file_extension": ".py",
   "mimetype": "text/x-python",
   "name": "python",
   "nbconvert_exporter": "python",
   "pygments_lexer": "ipython3",
   "version": "3.10.12"
  },
  "papermill": {
   "default_parameters": {},
   "duration": 55.953917,
   "end_time": "2023-07-21T22:52:49.141849",
   "environment_variables": {},
   "exception": null,
   "input_path": "__notebook__.ipynb",
   "output_path": "__notebook__.ipynb",
   "parameters": {},
   "start_time": "2023-07-21T22:51:53.187932",
   "version": "2.4.0"
  }
 },
 "nbformat": 4,
 "nbformat_minor": 5
}
